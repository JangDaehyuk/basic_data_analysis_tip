{
 "cells": [
  {
   "cell_type": "code",
   "execution_count": 1,
   "metadata": {},
   "outputs": [],
   "source": [
    "import warnings\n",
    "warnings.filterwarnings('ignore')"
   ]
  },
  {
   "cell_type": "code",
   "execution_count": 2,
   "metadata": {},
   "outputs": [],
   "source": [
    "import pandas as pd\n",
    "import numpy as np\n",
    "import re\n",
    "import matplotlib.pyplot as plt"
   ]
  },
  {
   "cell_type": "code",
   "execution_count": 3,
   "metadata": {},
   "outputs": [],
   "source": [
    "from plotnine import *"
   ]
  },
  {
   "cell_type": "code",
   "execution_count": 4,
   "metadata": {},
   "outputs": [
    {
     "data": {
      "text/plain": [
       "'/home/daehynk/AI_study/inflearn_인프런/public_data_analysis'"
      ]
     },
     "execution_count": 4,
     "metadata": {},
     "output_type": "execute_result"
    }
   ],
   "source": [
    "# 현재 위치정보를 봅니다.\n",
    "%pwd"
   ]
  },
  {
   "cell_type": "markdown",
   "metadata": {},
   "source": [
    "data 출처:https://www.data.go.kr/dataset/3035522/fileData.do"
   ]
  },
  {
   "cell_type": "code",
   "execution_count": 5,
   "metadata": {},
   "outputs": [
    {
     "name": "stdout",
     "output_type": "stream",
     "text": [
      "'1003_아파트분양 실습_part1-Copy1.ipynb'\r\n",
      "'200228_아파트분양 실습_part1.ipynb'\r\n",
      "'200228_아파트분양 실습_part2.ipynb'\r\n",
      "'20200228_matplotlib_폰트_설정_3가지 방법.ipynb'\r\n",
      " \u001b[0m\u001b[01;34mapartment_data\u001b[0m/\r\n",
      " apt_presale_price_강의자료.ipynb\r\n",
      " matplotlib_font_setting.ipynb\r\n",
      " matplotlib_디폴트_한글폰트_테스트.ipynb\r\n",
      "'pandas 시각화 튜토리얼.ipynb'\r\n",
      "'to_numeric astype apply sample.ipynb'\r\n",
      " Untitled1.ipynb\r\n",
      " Untitled.ipynb\r\n"
     ]
    }
   ],
   "source": [
    "%ls ./"
   ]
  },
  {
   "cell_type": "markdown",
   "metadata": {},
   "source": [
    "공공포털에 올라오는 데이터들은 encoding이 'euc-kr'또는 'cp949'인 경우가 많습니다.   \n",
    "보통 인코딩 디폴트값은 'utf-8'입니다. 만약에 안된다면, euc-kr 또는 cp949 로 인코딩 옵션을 다르게 줘서 해보면 됩니다.   \n",
    "위 3가지 인코딩 옵션들은 기본적으로 알고 계시길 권하며, 만약에 위 3가지로 인코딩이 안된다면 따로 열어보려고 하는 파일의 인코딩을 \n",
    "알아보시고 그거에 맞춰서 read_csv 에서 encoding 옵션을 주면 됩니다.   \n",
    "보통은 위 3가지로 다 되긴 합니다. 아직 경험이 부족한 저에게 이외의 인코딩은 본 적이 없습니다. "
   ]
  },
  {
   "cell_type": "code",
   "execution_count": 6,
   "metadata": {},
   "outputs": [],
   "source": [
    "pre_sale = pd.read_csv('./apartment_data/주택도시보증공사_전국 평균 분양가격(2019년 12월).csv', encoding='cp949')"
   ]
  },
  {
   "cell_type": "code",
   "execution_count": 7,
   "metadata": {},
   "outputs": [
    {
     "data": {
      "text/plain": [
       "(4335, 5)"
      ]
     },
     "execution_count": 7,
     "metadata": {},
     "output_type": "execute_result"
    }
   ],
   "source": [
    "pre_sale.shape"
   ]
  },
  {
   "cell_type": "code",
   "execution_count": 8,
   "metadata": {},
   "outputs": [
    {
     "data": {
      "text/html": [
       "<div>\n",
       "<style scoped>\n",
       "    .dataframe tbody tr th:only-of-type {\n",
       "        vertical-align: middle;\n",
       "    }\n",
       "\n",
       "    .dataframe tbody tr th {\n",
       "        vertical-align: top;\n",
       "    }\n",
       "\n",
       "    .dataframe thead th {\n",
       "        text-align: right;\n",
       "    }\n",
       "</style>\n",
       "<table border=\"1\" class=\"dataframe\">\n",
       "  <thead>\n",
       "    <tr style=\"text-align: right;\">\n",
       "      <th></th>\n",
       "      <th>지역명</th>\n",
       "      <th>규모구분</th>\n",
       "      <th>연도</th>\n",
       "      <th>월</th>\n",
       "      <th>분양가격(㎡)</th>\n",
       "    </tr>\n",
       "  </thead>\n",
       "  <tbody>\n",
       "    <tr>\n",
       "      <th>0</th>\n",
       "      <td>서울</td>\n",
       "      <td>전체</td>\n",
       "      <td>2015</td>\n",
       "      <td>10</td>\n",
       "      <td>5841</td>\n",
       "    </tr>\n",
       "    <tr>\n",
       "      <th>1</th>\n",
       "      <td>서울</td>\n",
       "      <td>전용면적 60㎡이하</td>\n",
       "      <td>2015</td>\n",
       "      <td>10</td>\n",
       "      <td>5652</td>\n",
       "    </tr>\n",
       "    <tr>\n",
       "      <th>2</th>\n",
       "      <td>서울</td>\n",
       "      <td>전용면적 60㎡초과 85㎡이하</td>\n",
       "      <td>2015</td>\n",
       "      <td>10</td>\n",
       "      <td>5882</td>\n",
       "    </tr>\n",
       "    <tr>\n",
       "      <th>3</th>\n",
       "      <td>서울</td>\n",
       "      <td>전용면적 85㎡초과 102㎡이하</td>\n",
       "      <td>2015</td>\n",
       "      <td>10</td>\n",
       "      <td>5721</td>\n",
       "    </tr>\n",
       "    <tr>\n",
       "      <th>4</th>\n",
       "      <td>서울</td>\n",
       "      <td>전용면적 102㎡초과</td>\n",
       "      <td>2015</td>\n",
       "      <td>10</td>\n",
       "      <td>5879</td>\n",
       "    </tr>\n",
       "  </tbody>\n",
       "</table>\n",
       "</div>"
      ],
      "text/plain": [
       "  지역명               규모구분    연도   월 분양가격(㎡)\n",
       "0  서울                 전체  2015  10    5841\n",
       "1  서울         전용면적 60㎡이하  2015  10    5652\n",
       "2  서울   전용면적 60㎡초과 85㎡이하  2015  10    5882\n",
       "3  서울  전용면적 85㎡초과 102㎡이하  2015  10    5721\n",
       "4  서울        전용면적 102㎡초과  2015  10    5879"
      ]
     },
     "execution_count": 8,
     "metadata": {},
     "output_type": "execute_result"
    }
   ],
   "source": [
    "pre_sale.head()"
   ]
  },
  {
   "cell_type": "code",
   "execution_count": 9,
   "metadata": {},
   "outputs": [
    {
     "data": {
      "text/html": [
       "<div>\n",
       "<style scoped>\n",
       "    .dataframe tbody tr th:only-of-type {\n",
       "        vertical-align: middle;\n",
       "    }\n",
       "\n",
       "    .dataframe tbody tr th {\n",
       "        vertical-align: top;\n",
       "    }\n",
       "\n",
       "    .dataframe thead th {\n",
       "        text-align: right;\n",
       "    }\n",
       "</style>\n",
       "<table border=\"1\" class=\"dataframe\">\n",
       "  <thead>\n",
       "    <tr style=\"text-align: right;\">\n",
       "      <th></th>\n",
       "      <th>지역명</th>\n",
       "      <th>규모구분</th>\n",
       "      <th>연도</th>\n",
       "      <th>월</th>\n",
       "      <th>분양가격(㎡)</th>\n",
       "    </tr>\n",
       "  </thead>\n",
       "  <tbody>\n",
       "    <tr>\n",
       "      <th>4330</th>\n",
       "      <td>제주</td>\n",
       "      <td>전체</td>\n",
       "      <td>2019</td>\n",
       "      <td>12</td>\n",
       "      <td>3882</td>\n",
       "    </tr>\n",
       "    <tr>\n",
       "      <th>4331</th>\n",
       "      <td>제주</td>\n",
       "      <td>전용면적 60㎡이하</td>\n",
       "      <td>2019</td>\n",
       "      <td>12</td>\n",
       "      <td>NaN</td>\n",
       "    </tr>\n",
       "    <tr>\n",
       "      <th>4332</th>\n",
       "      <td>제주</td>\n",
       "      <td>전용면적 60㎡초과 85㎡이하</td>\n",
       "      <td>2019</td>\n",
       "      <td>12</td>\n",
       "      <td>3898</td>\n",
       "    </tr>\n",
       "    <tr>\n",
       "      <th>4333</th>\n",
       "      <td>제주</td>\n",
       "      <td>전용면적 85㎡초과 102㎡이하</td>\n",
       "      <td>2019</td>\n",
       "      <td>12</td>\n",
       "      <td>NaN</td>\n",
       "    </tr>\n",
       "    <tr>\n",
       "      <th>4334</th>\n",
       "      <td>제주</td>\n",
       "      <td>전용면적 102㎡초과</td>\n",
       "      <td>2019</td>\n",
       "      <td>12</td>\n",
       "      <td>3601</td>\n",
       "    </tr>\n",
       "  </tbody>\n",
       "</table>\n",
       "</div>"
      ],
      "text/plain": [
       "     지역명               규모구분    연도   월 분양가격(㎡)\n",
       "4330  제주                 전체  2019  12    3882\n",
       "4331  제주         전용면적 60㎡이하  2019  12     NaN\n",
       "4332  제주   전용면적 60㎡초과 85㎡이하  2019  12    3898\n",
       "4333  제주  전용면적 85㎡초과 102㎡이하  2019  12     NaN\n",
       "4334  제주        전용면적 102㎡초과  2019  12    3601"
      ]
     },
     "execution_count": 9,
     "metadata": {},
     "output_type": "execute_result"
    }
   ],
   "source": [
    "pre_sale.tail()"
   ]
  },
  {
   "cell_type": "code",
   "execution_count": 10,
   "metadata": {},
   "outputs": [
    {
     "name": "stdout",
     "output_type": "stream",
     "text": [
      "<class 'pandas.core.frame.DataFrame'>\n",
      "RangeIndex: 4335 entries, 0 to 4334\n",
      "Data columns (total 5 columns):\n",
      "지역명        4335 non-null object\n",
      "규모구분       4335 non-null object\n",
      "연도         4335 non-null int64\n",
      "월          4335 non-null int64\n",
      "분양가격(㎡)    4058 non-null object\n",
      "dtypes: int64(2), object(3)\n",
      "memory usage: 169.5+ KB\n"
     ]
    }
   ],
   "source": [
    "# 분양가격이 숫자 타입이 아닙니다. 숫자 타입으로 변경해줄 필요가 있겠어요.\n",
    "pre_sale.info()"
   ]
  },
  {
   "cell_type": "code",
   "execution_count": 11,
   "metadata": {},
   "outputs": [
    {
     "data": {
      "text/plain": [
       "지역명        object\n",
       "규모구분       object\n",
       "연도          int64\n",
       "월           int64\n",
       "분양가격(㎡)    object\n",
       "dtype: object"
      ]
     },
     "execution_count": 11,
     "metadata": {},
     "output_type": "execute_result"
    }
   ],
   "source": [
    "pre_sale.dtypes"
   ]
  },
  {
   "cell_type": "code",
   "execution_count": 12,
   "metadata": {},
   "outputs": [
    {
     "data": {
      "text/plain": [
       "지역명          0\n",
       "규모구분         0\n",
       "연도           0\n",
       "월            0\n",
       "분양가격(㎡)    277\n",
       "dtype: int64"
      ]
     },
     "execution_count": 12,
     "metadata": {},
     "output_type": "execute_result"
    }
   ],
   "source": [
    "# 이상치 확인 \n",
    "pre_sale.isnull().sum()"
   ]
  },
  {
   "cell_type": "markdown",
   "metadata": {},
   "source": [
    "## matplotlib 나눔 폰트  설정 코드"
   ]
  },
  {
   "cell_type": "code",
   "execution_count": 13,
   "metadata": {},
   "outputs": [],
   "source": [
    "plt.rcParams[\"font.family\"] = 'NanumGothic'\n",
    "plt.rcParams[\"font.size\"] = 20\n",
    "plt.rcParams[\"figure.figsize\"] = (14,4)"
   ]
  },
  {
   "cell_type": "code",
   "execution_count": 14,
   "metadata": {},
   "outputs": [
    {
     "data": {
      "text/plain": [
       "<matplotlib.axes._subplots.AxesSubplot at 0x7fa1e1bcc550>"
      ]
     },
     "execution_count": 14,
     "metadata": {},
     "output_type": "execute_result"
    },
    {
     "data": {
      "image/png": "[encoded data removed]",
      "text/plain": [
       "<Figure size 1296x432 with 2 Axes>"
      ]
     },
     "metadata": {
      "needs_background": "light"
     },
     "output_type": "display_data"
    }
   ],
   "source": [
    "import missingno as msno\n",
    "msno.matrix(pre_sale, figsize=(18,6))"
   ]
  },
  {
   "cell_type": "markdown",
   "metadata": {},
   "source": [
    "### 연도,월 -> string 으로 변경"
   ]
  },
  {
   "cell_type": "code",
   "execution_count": 15,
   "metadata": {},
   "outputs": [],
   "source": [
    "# 연도와 월은 카테고리 형태의 데이터이기 때문에 스트링 형태로 변경 for 시각화 \n",
    "pre_sale['연도'] = pre_sale['연도'].astype(str)\n",
    "pre_sale['월'] = pre_sale['월'].astype(str)"
   ]
  },
  {
   "cell_type": "code",
   "execution_count": 16,
   "metadata": {},
   "outputs": [
    {
     "data": {
      "text/plain": [
       "지역명        object\n",
       "규모구분       object\n",
       "연도         object\n",
       "월          object\n",
       "분양가격(㎡)    object\n",
       "dtype: object"
      ]
     },
     "execution_count": 16,
     "metadata": {},
     "output_type": "execute_result"
    }
   ],
   "source": [
    "pre_sale.dtypes"
   ]
  },
  {
   "cell_type": "code",
   "execution_count": 17,
   "metadata": {},
   "outputs": [],
   "source": [
    "# 하나의 칼럼만 따로 인스턴스화 해주었습니다. \n",
    "# 데이터 프레임의 한 칼럼만 따로 떼어냈기 때문에 타입은 시리즈입니다.\n",
    "pre_sales_price = pre_sale['분양가격(㎡)']"
   ]
  },
  {
   "cell_type": "code",
   "execution_count": 18,
   "metadata": {},
   "outputs": [
    {
     "data": {
      "text/plain": [
       "pandas.core.series.Series"
      ]
     },
     "execution_count": 18,
     "metadata": {},
     "output_type": "execute_result"
    }
   ],
   "source": [
    "type(pre_sales_price)"
   ]
  },
  {
   "cell_type": "code",
   "execution_count": 19,
   "metadata": {},
   "outputs": [
    {
     "data": {
      "text/plain": [
       "0    5841\n",
       "1    5652\n",
       "2    5882\n",
       "3    5721\n",
       "4    5879\n",
       "Name: 분양가격(㎡), dtype: object"
      ]
     },
     "execution_count": 19,
     "metadata": {},
     "output_type": "execute_result"
    }
   ],
   "source": [
    "#object , 현재는 문자 타입\n",
    "pre_sales_price.head() "
   ]
  },
  {
   "cell_type": "code",
   "execution_count": 20,
   "metadata": {},
   "outputs": [],
   "source": [
    "# 분양가격 타입을 숫자로 변경\n",
    "pre_sale['분양가격'] = pd.to_numeric(pre_sales_price, errors='coerce')"
   ]
  },
  {
   "cell_type": "code",
   "execution_count": 21,
   "metadata": {},
   "outputs": [],
   "source": [
    "pre_sale['평당분양가격'] = pre_sale['분양가격'] * 3.3"
   ]
  },
  {
   "cell_type": "code",
   "execution_count": 22,
   "metadata": {},
   "outputs": [
    {
     "name": "stdout",
     "output_type": "stream",
     "text": [
      "<class 'pandas.core.frame.DataFrame'>\n",
      "RangeIndex: 4335 entries, 0 to 4334\n",
      "Data columns (total 7 columns):\n",
      "지역명        4335 non-null object\n",
      "규모구분       4335 non-null object\n",
      "연도         4335 non-null object\n",
      "월          4335 non-null object\n",
      "분양가격(㎡)    4058 non-null object\n",
      "분양가격       3957 non-null float64\n",
      "평당분양가격     3957 non-null float64\n",
      "dtypes: float64(2), object(5)\n",
      "memory usage: 237.2+ KB\n"
     ]
    }
   ],
   "source": [
    "pre_sale.info()"
   ]
  },
  {
   "cell_type": "code",
   "execution_count": 23,
   "metadata": {},
   "outputs": [
    {
     "data": {
      "text/plain": [
       "지역명         object\n",
       "규모구분        object\n",
       "연도          object\n",
       "월           object\n",
       "분양가격(㎡)     object\n",
       "분양가격       float64\n",
       "평당분양가격     float64\n",
       "dtype: object"
      ]
     },
     "execution_count": 23,
     "metadata": {},
     "output_type": "execute_result"
    }
   ],
   "source": [
    "pre_sale.dtypes"
   ]
  },
  {
   "cell_type": "markdown",
   "metadata": {},
   "source": [
    "연도, 월은 위에서 문자 타입으로 변경된 것이 확인되고,   \n",
    "to_numeric 을 통해서 float 타입의 분양가격 칼럼과 평당 분양칼럼이 생성된 것을 확인할 수 있습니다."
   ]
  },
  {
   "cell_type": "code",
   "execution_count": 24,
   "metadata": {},
   "outputs": [
    {
     "data": {
      "text/plain": [
       "지역명          0\n",
       "규모구분         0\n",
       "연도           0\n",
       "월            0\n",
       "분양가격(㎡)    277\n",
       "분양가격       378\n",
       "평당분양가격     378\n",
       "dtype: int64"
      ]
     },
     "execution_count": 24,
     "metadata": {},
     "output_type": "execute_result"
    }
   ],
   "source": [
    "pre_sale.isnull().sum()"
   ]
  },
  {
   "cell_type": "markdown",
   "metadata": {},
   "source": [
    "결측치가 늘어난 이유는? \n",
    "아마도 분양가격(m^2)에서 공백값도 결측치가 아닌 값이 있는 것으로 인식했을 것이다. object 타입이기에.\n",
    "반면에, 숫자타입에서는 공백도 결측치로 인식했을 것이다.그래서 공백이 nan으로 집계되서 늘어난 것이다. "
   ]
  },
  {
   "cell_type": "code",
   "execution_count": 25,
   "metadata": {},
   "outputs": [
    {
     "data": {
      "text/html": [
       "<div>\n",
       "<style scoped>\n",
       "    .dataframe tbody tr th:only-of-type {\n",
       "        vertical-align: middle;\n",
       "    }\n",
       "\n",
       "    .dataframe tbody tr th {\n",
       "        vertical-align: top;\n",
       "    }\n",
       "\n",
       "    .dataframe thead th {\n",
       "        text-align: right;\n",
       "    }\n",
       "</style>\n",
       "<table border=\"1\" class=\"dataframe\">\n",
       "  <thead>\n",
       "    <tr style=\"text-align: right;\">\n",
       "      <th></th>\n",
       "      <th>분양가격</th>\n",
       "      <th>평당분양가격</th>\n",
       "    </tr>\n",
       "  </thead>\n",
       "  <tbody>\n",
       "    <tr>\n",
       "      <th>count</th>\n",
       "      <td>3957.000000</td>\n",
       "      <td>3957.000000</td>\n",
       "    </tr>\n",
       "    <tr>\n",
       "      <th>mean</th>\n",
       "      <td>3238.128633</td>\n",
       "      <td>10685.824488</td>\n",
       "    </tr>\n",
       "    <tr>\n",
       "      <th>std</th>\n",
       "      <td>1264.309933</td>\n",
       "      <td>4172.222780</td>\n",
       "    </tr>\n",
       "    <tr>\n",
       "      <th>min</th>\n",
       "      <td>1868.000000</td>\n",
       "      <td>6164.400000</td>\n",
       "    </tr>\n",
       "    <tr>\n",
       "      <th>25%</th>\n",
       "      <td>2441.000000</td>\n",
       "      <td>8055.300000</td>\n",
       "    </tr>\n",
       "    <tr>\n",
       "      <th>50%</th>\n",
       "      <td>2874.000000</td>\n",
       "      <td>9484.200000</td>\n",
       "    </tr>\n",
       "    <tr>\n",
       "      <th>75%</th>\n",
       "      <td>3561.000000</td>\n",
       "      <td>11751.300000</td>\n",
       "    </tr>\n",
       "    <tr>\n",
       "      <th>max</th>\n",
       "      <td>12728.000000</td>\n",
       "      <td>42002.400000</td>\n",
       "    </tr>\n",
       "  </tbody>\n",
       "</table>\n",
       "</div>"
      ],
      "text/plain": [
       "               분양가격        평당분양가격\n",
       "count   3957.000000   3957.000000\n",
       "mean    3238.128633  10685.824488\n",
       "std     1264.309933   4172.222780\n",
       "min     1868.000000   6164.400000\n",
       "25%     2441.000000   8055.300000\n",
       "50%     2874.000000   9484.200000\n",
       "75%     3561.000000  11751.300000\n",
       "max    12728.000000  42002.400000"
      ]
     },
     "execution_count": 25,
     "metadata": {},
     "output_type": "execute_result"
    }
   ],
   "source": [
    "pre_sale.describe() #숫자타입(float, int)에들만 보여준다. "
   ]
  },
  {
   "cell_type": "code",
   "execution_count": 26,
   "metadata": {},
   "outputs": [
    {
     "data": {
      "text/html": [
       "<div>\n",
       "<style scoped>\n",
       "    .dataframe tbody tr th:only-of-type {\n",
       "        vertical-align: middle;\n",
       "    }\n",
       "\n",
       "    .dataframe tbody tr th {\n",
       "        vertical-align: top;\n",
       "    }\n",
       "\n",
       "    .dataframe thead th {\n",
       "        text-align: right;\n",
       "    }\n",
       "</style>\n",
       "<table border=\"1\" class=\"dataframe\">\n",
       "  <thead>\n",
       "    <tr style=\"text-align: right;\">\n",
       "      <th></th>\n",
       "      <th>지역명</th>\n",
       "      <th>규모구분</th>\n",
       "      <th>연도</th>\n",
       "      <th>월</th>\n",
       "      <th>분양가격(㎡)</th>\n",
       "    </tr>\n",
       "  </thead>\n",
       "  <tbody>\n",
       "    <tr>\n",
       "      <th>count</th>\n",
       "      <td>4335</td>\n",
       "      <td>4335</td>\n",
       "      <td>4335</td>\n",
       "      <td>4335</td>\n",
       "      <td>4058</td>\n",
       "    </tr>\n",
       "    <tr>\n",
       "      <th>unique</th>\n",
       "      <td>17</td>\n",
       "      <td>5</td>\n",
       "      <td>5</td>\n",
       "      <td>12</td>\n",
       "      <td>1753</td>\n",
       "    </tr>\n",
       "    <tr>\n",
       "      <th>top</th>\n",
       "      <td>세종</td>\n",
       "      <td>전체</td>\n",
       "      <td>2018</td>\n",
       "      <td>12</td>\n",
       "      <td>2221</td>\n",
       "    </tr>\n",
       "    <tr>\n",
       "      <th>freq</th>\n",
       "      <td>255</td>\n",
       "      <td>867</td>\n",
       "      <td>1020</td>\n",
       "      <td>425</td>\n",
       "      <td>17</td>\n",
       "    </tr>\n",
       "  </tbody>\n",
       "</table>\n",
       "</div>"
      ],
      "text/plain": [
       "         지역명  규모구분    연도     월 분양가격(㎡)\n",
       "count   4335  4335  4335  4335    4058\n",
       "unique    17     5     5    12    1753\n",
       "top       세종    전체  2018    12    2221\n",
       "freq     255   867  1020   425      17"
      ]
     },
     "execution_count": 26,
     "metadata": {},
     "output_type": "execute_result"
    }
   ],
   "source": [
    "pre_sale.describe(include=[np.object])  # object 타입의 요약을 보여준다. "
   ]
  },
  {
   "cell_type": "markdown",
   "metadata": {},
   "source": [
    "top은 가장 많이 등장한 단어를 말하면, 그 횟수는 freq로 나타내며 여기서는 255 입니다."
   ]
  },
  {
   "cell_type": "markdown",
   "metadata": {},
   "source": [
    "### 2017~2019 연도별 데이터 추출"
   ]
  },
  {
   "cell_type": "code",
   "execution_count": 27,
   "metadata": {},
   "outputs": [
    {
     "data": {
      "text/plain": [
       "(1020, 7)"
      ]
     },
     "execution_count": 27,
     "metadata": {},
     "output_type": "execute_result"
    }
   ],
   "source": [
    "pre_sale_2017 = pre_sale.loc[pre_sale['연도'] == '2017'] # dtype이 string이므로 '' 사이에 숫자를 넣는다\n",
    "pre_sale_2017.shape             "
   ]
  },
  {
   "cell_type": "code",
   "execution_count": 28,
   "metadata": {},
   "outputs": [
    {
     "data": {
      "text/plain": [
       "전체                   867\n",
       "전용면적 102㎡초과          867\n",
       "전용면적 60㎡초과 85㎡이하     867\n",
       "전용면적 85㎡초과 102㎡이하    867\n",
       "전용면적 60㎡이하           867\n",
       "Name: 규모구분, dtype: int64"
      ]
     },
     "execution_count": 28,
     "metadata": {},
     "output_type": "execute_result"
    }
   ],
   "source": [
    "pre_sale['규모구분'].value_counts()"
   ]
  },
  {
   "cell_type": "code",
   "execution_count": 29,
   "metadata": {},
   "outputs": [
    {
     "data": {
      "text/plain": [
       "세종    255\n",
       "대구    255\n",
       "경남    255\n",
       "경북    255\n",
       "전남    255\n",
       "대전    255\n",
       "전북    255\n",
       "경기    255\n",
       "인천    255\n",
       "충북    255\n",
       "제주    255\n",
       "충남    255\n",
       "서울    255\n",
       "부산    255\n",
       "광주    255\n",
       "울산    255\n",
       "강원    255\n",
       "Name: 지역명, dtype: int64"
      ]
     },
     "execution_count": 29,
     "metadata": {},
     "output_type": "execute_result"
    }
   ],
   "source": [
    "pre_sale['지역명'].value_counts()"
   ]
  },
  {
   "cell_type": "code",
   "execution_count": 30,
   "metadata": {},
   "outputs": [
    {
     "data": {
      "text/plain": [
       "array(['서울', '인천', '경기', '부산', '대구', '광주', '대전', '울산', '세종', '강원', '충북',\n",
       "       '충남', '전북', '전남', '경북', '경남', '제주'], dtype=object)"
      ]
     },
     "execution_count": 30,
     "metadata": {},
     "output_type": "execute_result"
    }
   ],
   "source": [
    "pre_sale['지역명'].unique()"
   ]
  },
  {
   "cell_type": "code",
   "execution_count": 31,
   "metadata": {},
   "outputs": [
    {
     "data": {
      "text/plain": [
       "(1020, 7)"
      ]
     },
     "execution_count": 31,
     "metadata": {},
     "output_type": "execute_result"
    }
   ],
   "source": [
    "pre_sale_2018 = pre_sale.loc[pre_sale['연도'] == '2018']\n",
    "pre_sale_2018.shape"
   ]
  },
  {
   "cell_type": "code",
   "execution_count": 32,
   "metadata": {},
   "outputs": [
    {
     "data": {
      "text/plain": [
       "(1020, 7)"
      ]
     },
     "execution_count": 32,
     "metadata": {},
     "output_type": "execute_result"
    }
   ],
   "source": [
    "pre_sale_2019 = pre_sale.loc[pre_sale['연도'] == '2019']\n",
    "pre_sale_2019.shape"
   ]
  },
  {
   "cell_type": "markdown",
   "metadata": {},
   "source": [
    "## 전국평균 분양가격\n",
    "\n",
    "- groupby 와 pivot_table 활용"
   ]
  },
  {
   "cell_type": "code",
   "execution_count": 33,
   "metadata": {},
   "outputs": [],
   "source": [
    "pre_sale.groupby?"
   ]
  },
  {
   "cell_type": "code",
   "execution_count": 34,
   "metadata": {},
   "outputs": [
    {
     "data": {
      "text/html": [
       "<div>\n",
       "<style scoped>\n",
       "    .dataframe tbody tr th:only-of-type {\n",
       "        vertical-align: middle;\n",
       "    }\n",
       "\n",
       "    .dataframe tbody tr th {\n",
       "        vertical-align: top;\n",
       "    }\n",
       "\n",
       "    .dataframe thead th {\n",
       "        text-align: right;\n",
       "    }\n",
       "</style>\n",
       "<table border=\"1\" class=\"dataframe\">\n",
       "  <thead>\n",
       "    <tr style=\"text-align: right;\">\n",
       "      <th></th>\n",
       "      <th>연도</th>\n",
       "      <th>2015</th>\n",
       "      <th>2016</th>\n",
       "      <th>2017</th>\n",
       "      <th>2018</th>\n",
       "      <th>2019</th>\n",
       "    </tr>\n",
       "  </thead>\n",
       "  <tbody>\n",
       "    <tr>\n",
       "      <th rowspan=\"8\" valign=\"top\">분양가격</th>\n",
       "      <th>count</th>\n",
       "      <td>243.000000</td>\n",
       "      <td>984.000000</td>\n",
       "      <td>899.000000</td>\n",
       "      <td>919.000000</td>\n",
       "      <td>912.000000</td>\n",
       "    </tr>\n",
       "    <tr>\n",
       "      <th>mean</th>\n",
       "      <td>2788.707819</td>\n",
       "      <td>2934.250000</td>\n",
       "      <td>3139.541713</td>\n",
       "      <td>3326.951034</td>\n",
       "      <td>3693.422149</td>\n",
       "    </tr>\n",
       "    <tr>\n",
       "      <th>std</th>\n",
       "      <td>976.861182</td>\n",
       "      <td>1071.441561</td>\n",
       "      <td>1107.584870</td>\n",
       "      <td>1186.090839</td>\n",
       "      <td>1563.205566</td>\n",
       "    </tr>\n",
       "    <tr>\n",
       "      <th>min</th>\n",
       "      <td>1868.000000</td>\n",
       "      <td>1900.000000</td>\n",
       "      <td>1976.000000</td>\n",
       "      <td>2076.000000</td>\n",
       "      <td>2124.000000</td>\n",
       "    </tr>\n",
       "    <tr>\n",
       "      <th>25%</th>\n",
       "      <td>2225.000000</td>\n",
       "      <td>2282.000000</td>\n",
       "      <td>2365.000000</td>\n",
       "      <td>2525.000000</td>\n",
       "      <td>2635.500000</td>\n",
       "    </tr>\n",
       "    <tr>\n",
       "      <th>50%</th>\n",
       "      <td>2516.000000</td>\n",
       "      <td>2672.000000</td>\n",
       "      <td>2849.000000</td>\n",
       "      <td>2952.000000</td>\n",
       "      <td>3395.000000</td>\n",
       "    </tr>\n",
       "    <tr>\n",
       "      <th>75%</th>\n",
       "      <td>3025.500000</td>\n",
       "      <td>3148.500000</td>\n",
       "      <td>3456.000000</td>\n",
       "      <td>3698.000000</td>\n",
       "      <td>4066.250000</td>\n",
       "    </tr>\n",
       "    <tr>\n",
       "      <th>max</th>\n",
       "      <td>7092.000000</td>\n",
       "      <td>8096.000000</td>\n",
       "      <td>7887.000000</td>\n",
       "      <td>8098.000000</td>\n",
       "      <td>12728.000000</td>\n",
       "    </tr>\n",
       "    <tr>\n",
       "      <th rowspan=\"8\" valign=\"top\">평당분양가격</th>\n",
       "      <th>count</th>\n",
       "      <td>243.000000</td>\n",
       "      <td>984.000000</td>\n",
       "      <td>899.000000</td>\n",
       "      <td>919.000000</td>\n",
       "      <td>912.000000</td>\n",
       "    </tr>\n",
       "    <tr>\n",
       "      <th>mean</th>\n",
       "      <td>9202.735802</td>\n",
       "      <td>9683.025000</td>\n",
       "      <td>10360.487653</td>\n",
       "      <td>10978.938411</td>\n",
       "      <td>12188.293092</td>\n",
       "    </tr>\n",
       "    <tr>\n",
       "      <th>std</th>\n",
       "      <td>3223.641902</td>\n",
       "      <td>3535.757150</td>\n",
       "      <td>3655.030071</td>\n",
       "      <td>3914.099768</td>\n",
       "      <td>5158.578369</td>\n",
       "    </tr>\n",
       "    <tr>\n",
       "      <th>min</th>\n",
       "      <td>6164.400000</td>\n",
       "      <td>6270.000000</td>\n",
       "      <td>6520.800000</td>\n",
       "      <td>6850.800000</td>\n",
       "      <td>7009.200000</td>\n",
       "    </tr>\n",
       "    <tr>\n",
       "      <th>25%</th>\n",
       "      <td>7342.500000</td>\n",
       "      <td>7530.600000</td>\n",
       "      <td>7804.500000</td>\n",
       "      <td>8332.500000</td>\n",
       "      <td>8697.150000</td>\n",
       "    </tr>\n",
       "    <tr>\n",
       "      <th>50%</th>\n",
       "      <td>8302.800000</td>\n",
       "      <td>8817.600000</td>\n",
       "      <td>9401.700000</td>\n",
       "      <td>9741.600000</td>\n",
       "      <td>11203.500000</td>\n",
       "    </tr>\n",
       "    <tr>\n",
       "      <th>75%</th>\n",
       "      <td>9984.150000</td>\n",
       "      <td>10390.050000</td>\n",
       "      <td>11404.800000</td>\n",
       "      <td>12203.400000</td>\n",
       "      <td>13418.625000</td>\n",
       "    </tr>\n",
       "    <tr>\n",
       "      <th>max</th>\n",
       "      <td>23403.600000</td>\n",
       "      <td>26716.800000</td>\n",
       "      <td>26027.100000</td>\n",
       "      <td>26723.400000</td>\n",
       "      <td>42002.400000</td>\n",
       "    </tr>\n",
       "  </tbody>\n",
       "</table>\n",
       "</div>"
      ],
      "text/plain": [
       "연도                    2015          2016          2017          2018  \\\n",
       "분양가격   count    243.000000    984.000000    899.000000    919.000000   \n",
       "       mean    2788.707819   2934.250000   3139.541713   3326.951034   \n",
       "       std      976.861182   1071.441561   1107.584870   1186.090839   \n",
       "       min     1868.000000   1900.000000   1976.000000   2076.000000   \n",
       "       25%     2225.000000   2282.000000   2365.000000   2525.000000   \n",
       "       50%     2516.000000   2672.000000   2849.000000   2952.000000   \n",
       "       75%     3025.500000   3148.500000   3456.000000   3698.000000   \n",
       "       max     7092.000000   8096.000000   7887.000000   8098.000000   \n",
       "평당분양가격 count    243.000000    984.000000    899.000000    919.000000   \n",
       "       mean    9202.735802   9683.025000  10360.487653  10978.938411   \n",
       "       std     3223.641902   3535.757150   3655.030071   3914.099768   \n",
       "       min     6164.400000   6270.000000   6520.800000   6850.800000   \n",
       "       25%     7342.500000   7530.600000   7804.500000   8332.500000   \n",
       "       50%     8302.800000   8817.600000   9401.700000   9741.600000   \n",
       "       75%     9984.150000  10390.050000  11404.800000  12203.400000   \n",
       "       max    23403.600000  26716.800000  26027.100000  26723.400000   \n",
       "\n",
       "연도                    2019  \n",
       "분양가격   count    912.000000  \n",
       "       mean    3693.422149  \n",
       "       std     1563.205566  \n",
       "       min     2124.000000  \n",
       "       25%     2635.500000  \n",
       "       50%     3395.000000  \n",
       "       75%     4066.250000  \n",
       "       max    12728.000000  \n",
       "평당분양가격 count    912.000000  \n",
       "       mean   12188.293092  \n",
       "       std     5158.578369  \n",
       "       min     7009.200000  \n",
       "       25%     8697.150000  \n",
       "       50%    11203.500000  \n",
       "       75%    13418.625000  \n",
       "       max    42002.400000  "
      ]
     },
     "execution_count": 34,
     "metadata": {},
     "output_type": "execute_result"
    }
   ],
   "source": [
    "#pd.options.display.float_format = '{:,.0f}'.format\n",
    "pre_sale.groupby(pre_sale.연도).describe().T  # 숫자 데이터만 describe해서 보여준다.  "
   ]
  },
  {
   "cell_type": "code",
   "execution_count": 35,
   "metadata": {},
   "outputs": [
    {
     "data": {
      "text/html": [
       "<div>\n",
       "<style scoped>\n",
       "    .dataframe tbody tr th:only-of-type {\n",
       "        vertical-align: middle;\n",
       "    }\n",
       "\n",
       "    .dataframe tbody tr th {\n",
       "        vertical-align: top;\n",
       "    }\n",
       "\n",
       "    .dataframe thead tr th {\n",
       "        text-align: left;\n",
       "    }\n",
       "\n",
       "    .dataframe thead tr:last-of-type th {\n",
       "        text-align: right;\n",
       "    }\n",
       "</style>\n",
       "<table border=\"1\" class=\"dataframe\">\n",
       "  <thead>\n",
       "    <tr>\n",
       "      <th></th>\n",
       "      <th colspan=\"8\" halign=\"left\">분양가격</th>\n",
       "      <th colspan=\"8\" halign=\"left\">평당분양가격</th>\n",
       "    </tr>\n",
       "    <tr>\n",
       "      <th></th>\n",
       "      <th>count</th>\n",
       "      <th>mean</th>\n",
       "      <th>std</th>\n",
       "      <th>min</th>\n",
       "      <th>25%</th>\n",
       "      <th>50%</th>\n",
       "      <th>75%</th>\n",
       "      <th>max</th>\n",
       "      <th>count</th>\n",
       "      <th>mean</th>\n",
       "      <th>std</th>\n",
       "      <th>min</th>\n",
       "      <th>25%</th>\n",
       "      <th>50%</th>\n",
       "      <th>75%</th>\n",
       "      <th>max</th>\n",
       "    </tr>\n",
       "    <tr>\n",
       "      <th>연도</th>\n",
       "      <th></th>\n",
       "      <th></th>\n",
       "      <th></th>\n",
       "      <th></th>\n",
       "      <th></th>\n",
       "      <th></th>\n",
       "      <th></th>\n",
       "      <th></th>\n",
       "      <th></th>\n",
       "      <th></th>\n",
       "      <th></th>\n",
       "      <th></th>\n",
       "      <th></th>\n",
       "      <th></th>\n",
       "      <th></th>\n",
       "      <th></th>\n",
       "    </tr>\n",
       "  </thead>\n",
       "  <tbody>\n",
       "    <tr>\n",
       "      <th>2015</th>\n",
       "      <td>243.0</td>\n",
       "      <td>2788.707819</td>\n",
       "      <td>976.861182</td>\n",
       "      <td>1868.0</td>\n",
       "      <td>2225.0</td>\n",
       "      <td>2516.0</td>\n",
       "      <td>3025.50</td>\n",
       "      <td>7092.0</td>\n",
       "      <td>243.0</td>\n",
       "      <td>9202.735802</td>\n",
       "      <td>3223.641902</td>\n",
       "      <td>6164.4</td>\n",
       "      <td>7342.50</td>\n",
       "      <td>8302.8</td>\n",
       "      <td>9984.150</td>\n",
       "      <td>23403.6</td>\n",
       "    </tr>\n",
       "    <tr>\n",
       "      <th>2016</th>\n",
       "      <td>984.0</td>\n",
       "      <td>2934.250000</td>\n",
       "      <td>1071.441561</td>\n",
       "      <td>1900.0</td>\n",
       "      <td>2282.0</td>\n",
       "      <td>2672.0</td>\n",
       "      <td>3148.50</td>\n",
       "      <td>8096.0</td>\n",
       "      <td>984.0</td>\n",
       "      <td>9683.025000</td>\n",
       "      <td>3535.757150</td>\n",
       "      <td>6270.0</td>\n",
       "      <td>7530.60</td>\n",
       "      <td>8817.6</td>\n",
       "      <td>10390.050</td>\n",
       "      <td>26716.8</td>\n",
       "    </tr>\n",
       "    <tr>\n",
       "      <th>2017</th>\n",
       "      <td>899.0</td>\n",
       "      <td>3139.541713</td>\n",
       "      <td>1107.584870</td>\n",
       "      <td>1976.0</td>\n",
       "      <td>2365.0</td>\n",
       "      <td>2849.0</td>\n",
       "      <td>3456.00</td>\n",
       "      <td>7887.0</td>\n",
       "      <td>899.0</td>\n",
       "      <td>10360.487653</td>\n",
       "      <td>3655.030071</td>\n",
       "      <td>6520.8</td>\n",
       "      <td>7804.50</td>\n",
       "      <td>9401.7</td>\n",
       "      <td>11404.800</td>\n",
       "      <td>26027.1</td>\n",
       "    </tr>\n",
       "    <tr>\n",
       "      <th>2018</th>\n",
       "      <td>919.0</td>\n",
       "      <td>3326.951034</td>\n",
       "      <td>1186.090839</td>\n",
       "      <td>2076.0</td>\n",
       "      <td>2525.0</td>\n",
       "      <td>2952.0</td>\n",
       "      <td>3698.00</td>\n",
       "      <td>8098.0</td>\n",
       "      <td>919.0</td>\n",
       "      <td>10978.938411</td>\n",
       "      <td>3914.099768</td>\n",
       "      <td>6850.8</td>\n",
       "      <td>8332.50</td>\n",
       "      <td>9741.6</td>\n",
       "      <td>12203.400</td>\n",
       "      <td>26723.4</td>\n",
       "    </tr>\n",
       "    <tr>\n",
       "      <th>2019</th>\n",
       "      <td>912.0</td>\n",
       "      <td>3693.422149</td>\n",
       "      <td>1563.205566</td>\n",
       "      <td>2124.0</td>\n",
       "      <td>2635.5</td>\n",
       "      <td>3395.0</td>\n",
       "      <td>4066.25</td>\n",
       "      <td>12728.0</td>\n",
       "      <td>912.0</td>\n",
       "      <td>12188.293092</td>\n",
       "      <td>5158.578369</td>\n",
       "      <td>7009.2</td>\n",
       "      <td>8697.15</td>\n",
       "      <td>11203.5</td>\n",
       "      <td>13418.625</td>\n",
       "      <td>42002.4</td>\n",
       "    </tr>\n",
       "  </tbody>\n",
       "</table>\n",
       "</div>"
      ],
      "text/plain": [
       "       분양가격                                                             \\\n",
       "      count         mean          std     min     25%     50%      75%   \n",
       "연도                                                                       \n",
       "2015  243.0  2788.707819   976.861182  1868.0  2225.0  2516.0  3025.50   \n",
       "2016  984.0  2934.250000  1071.441561  1900.0  2282.0  2672.0  3148.50   \n",
       "2017  899.0  3139.541713  1107.584870  1976.0  2365.0  2849.0  3456.00   \n",
       "2018  919.0  3326.951034  1186.090839  2076.0  2525.0  2952.0  3698.00   \n",
       "2019  912.0  3693.422149  1563.205566  2124.0  2635.5  3395.0  4066.25   \n",
       "\n",
       "              평당분양가격                                                       \\\n",
       "          max  count          mean          std     min      25%      50%   \n",
       "연도                                                                          \n",
       "2015   7092.0  243.0   9202.735802  3223.641902  6164.4  7342.50   8302.8   \n",
       "2016   8096.0  984.0   9683.025000  3535.757150  6270.0  7530.60   8817.6   \n",
       "2017   7887.0  899.0  10360.487653  3655.030071  6520.8  7804.50   9401.7   \n",
       "2018   8098.0  919.0  10978.938411  3914.099768  6850.8  8332.50   9741.6   \n",
       "2019  12728.0  912.0  12188.293092  5158.578369  7009.2  8697.15  11203.5   \n",
       "\n",
       "                          \n",
       "            75%      max  \n",
       "연도                        \n",
       "2015   9984.150  23403.6  \n",
       "2016  10390.050  26716.8  \n",
       "2017  11404.800  26027.1  \n",
       "2018  12203.400  26723.4  \n",
       "2019  13418.625  42002.4  "
      ]
     },
     "execution_count": 35,
     "metadata": {},
     "output_type": "execute_result"
    }
   ],
   "source": [
    "pre_sale.groupby(pre_sale.연도).describe()"
   ]
  },
  {
   "cell_type": "code",
   "execution_count": 36,
   "metadata": {},
   "outputs": [
    {
     "data": {
      "text/plain": [
       "Index(['지역명', '규모구분', '연도', '월', '분양가격(㎡)', '분양가격', '평당분양가격'], dtype='object')"
      ]
     },
     "execution_count": 36,
     "metadata": {},
     "output_type": "execute_result"
    }
   ],
   "source": [
    "pre_sale.columns"
   ]
  },
  {
   "cell_type": "code",
   "execution_count": 37,
   "metadata": {},
   "outputs": [],
   "source": [
    "pre_sale.pivot_table?"
   ]
  },
  {
   "cell_type": "code",
   "execution_count": 38,
   "metadata": {},
   "outputs": [
    {
     "data": {
      "text/html": [
       "<div>\n",
       "<style scoped>\n",
       "    .dataframe tbody tr th:only-of-type {\n",
       "        vertical-align: middle;\n",
       "    }\n",
       "\n",
       "    .dataframe tbody tr th {\n",
       "        vertical-align: top;\n",
       "    }\n",
       "\n",
       "    .dataframe thead th {\n",
       "        text-align: right;\n",
       "    }\n",
       "</style>\n",
       "<table border=\"1\" class=\"dataframe\">\n",
       "  <thead>\n",
       "    <tr style=\"text-align: right;\">\n",
       "      <th>연도</th>\n",
       "      <th>2015</th>\n",
       "      <th>2016</th>\n",
       "      <th>2017</th>\n",
       "      <th>2018</th>\n",
       "      <th>2019</th>\n",
       "    </tr>\n",
       "    <tr>\n",
       "      <th>규모구분</th>\n",
       "      <th></th>\n",
       "      <th></th>\n",
       "      <th></th>\n",
       "      <th></th>\n",
       "      <th></th>\n",
       "    </tr>\n",
       "  </thead>\n",
       "  <tbody>\n",
       "    <tr>\n",
       "      <th>전용면적 102㎡초과</th>\n",
       "      <td>9837.226667</td>\n",
       "      <td>10388.728272</td>\n",
       "      <td>11334.484615</td>\n",
       "      <td>11445.574576</td>\n",
       "      <td>13331.520968</td>\n",
       "    </tr>\n",
       "    <tr>\n",
       "      <th>전용면적 60㎡이하</th>\n",
       "      <td>8951.525000</td>\n",
       "      <td>9398.876119</td>\n",
       "      <td>10246.133333</td>\n",
       "      <td>10844.409783</td>\n",
       "      <td>11506.803371</td>\n",
       "    </tr>\n",
       "    <tr>\n",
       "      <th>전용면적 60㎡초과 85㎡이하</th>\n",
       "      <td>8891.817647</td>\n",
       "      <td>9295.986765</td>\n",
       "      <td>9825.000000</td>\n",
       "      <td>10650.611823</td>\n",
       "      <td>11677.201531</td>\n",
       "    </tr>\n",
       "    <tr>\n",
       "      <th>전용면적 85㎡초과 102㎡이하</th>\n",
       "      <td>9518.506250</td>\n",
       "      <td>10122.355435</td>\n",
       "      <td>10540.402454</td>\n",
       "      <td>11441.707895</td>\n",
       "      <td>12980.676923</td>\n",
       "    </tr>\n",
       "    <tr>\n",
       "      <th>전체</th>\n",
       "      <td>8893.047059</td>\n",
       "      <td>9293.042647</td>\n",
       "      <td>9901.270588</td>\n",
       "      <td>10675.825123</td>\n",
       "      <td>11602.715816</td>\n",
       "    </tr>\n",
       "  </tbody>\n",
       "</table>\n",
       "</div>"
      ],
      "text/plain": [
       "연도                        2015          2016          2017          2018  \\\n",
       "규모구분                                                                       \n",
       "전용면적 102㎡초과        9837.226667  10388.728272  11334.484615  11445.574576   \n",
       "전용면적 60㎡이하         8951.525000   9398.876119  10246.133333  10844.409783   \n",
       "전용면적 60㎡초과 85㎡이하   8891.817647   9295.986765   9825.000000  10650.611823   \n",
       "전용면적 85㎡초과 102㎡이하  9518.506250  10122.355435  10540.402454  11441.707895   \n",
       "전체                 8893.047059   9293.042647   9901.270588  10675.825123   \n",
       "\n",
       "연도                         2019  \n",
       "규모구분                             \n",
       "전용면적 102㎡초과        13331.520968  \n",
       "전용면적 60㎡이하         11506.803371  \n",
       "전용면적 60㎡초과 85㎡이하   11677.201531  \n",
       "전용면적 85㎡초과 102㎡이하  12980.676923  \n",
       "전체                 11602.715816  "
      ]
     },
     "execution_count": 38,
     "metadata": {},
     "output_type": "execute_result"
    }
   ],
   "source": [
    "pre_sale.pivot_table('평당분양가격','규모구분','연도') # value, index, columns"
   ]
  },
  {
   "cell_type": "markdown",
   "metadata": {},
   "source": [
    "### 전국 분양가 변동 금액"
   ]
  },
  {
   "cell_type": "code",
   "execution_count": 41,
   "metadata": {},
   "outputs": [
    {
     "data": {
      "text/html": [
       "<div>\n",
       "<style scoped>\n",
       "    .dataframe tbody tr th:only-of-type {\n",
       "        vertical-align: middle;\n",
       "    }\n",
       "\n",
       "    .dataframe tbody tr th {\n",
       "        vertical-align: top;\n",
       "    }\n",
       "\n",
       "    .dataframe thead th {\n",
       "        text-align: right;\n",
       "    }\n",
       "</style>\n",
       "<table border=\"1\" class=\"dataframe\">\n",
       "  <thead>\n",
       "    <tr style=\"text-align: right;\">\n",
       "      <th>연도</th>\n",
       "      <th>지역명</th>\n",
       "      <th>2015</th>\n",
       "      <th>2016</th>\n",
       "      <th>2017</th>\n",
       "      <th>2018</th>\n",
       "      <th>2019</th>\n",
       "    </tr>\n",
       "  </thead>\n",
       "  <tbody>\n",
       "    <tr>\n",
       "      <th>0</th>\n",
       "      <td>강원</td>\n",
       "      <td>7159.9</td>\n",
       "      <td>7011.125</td>\n",
       "      <td>7126.8</td>\n",
       "      <td>7680.750</td>\n",
       "      <td>8141.65</td>\n",
       "    </tr>\n",
       "    <tr>\n",
       "      <th>1</th>\n",
       "      <td>경기</td>\n",
       "      <td>10377.4</td>\n",
       "      <td>11220.000</td>\n",
       "      <td>11850.0</td>\n",
       "      <td>13185.975</td>\n",
       "      <td>14468.85</td>\n",
       "    </tr>\n",
       "    <tr>\n",
       "      <th>2</th>\n",
       "      <td>경남</td>\n",
       "      <td>7585.6</td>\n",
       "      <td>7847.950</td>\n",
       "      <td>8119.8</td>\n",
       "      <td>9019.450</td>\n",
       "      <td>9870.85</td>\n",
       "    </tr>\n",
       "    <tr>\n",
       "      <th>3</th>\n",
       "      <td>경북</td>\n",
       "      <td>7170.9</td>\n",
       "      <td>7360.650</td>\n",
       "      <td>7794.9</td>\n",
       "      <td>8505.200</td>\n",
       "      <td>8856.65</td>\n",
       "    </tr>\n",
       "    <tr>\n",
       "      <th>4</th>\n",
       "      <td>광주</td>\n",
       "      <td>8052.0</td>\n",
       "      <td>8898.725</td>\n",
       "      <td>9463.5</td>\n",
       "      <td>9855.725</td>\n",
       "      <td>11822.80</td>\n",
       "    </tr>\n",
       "  </tbody>\n",
       "</table>\n",
       "</div>"
      ],
      "text/plain": [
       "연도 지역명     2015       2016     2017       2018      2019\n",
       "0   강원   7159.9   7011.125   7126.8   7680.750   8141.65\n",
       "1   경기  10377.4  11220.000  11850.0  13185.975  14468.85\n",
       "2   경남   7585.6   7847.950   8119.8   9019.450   9870.85\n",
       "3   경북   7170.9   7360.650   7794.9   8505.200   8856.65\n",
       "4   광주   8052.0   8898.725   9463.5   9855.725  11822.80"
      ]
     },
     "execution_count": 41,
     "metadata": {},
     "output_type": "execute_result"
    }
   ],
   "source": [
    "# 규모구분에서 전체로 되어있는 데이터만 가져온다\n",
    "region_year_all = pre_sale.loc[pre_sale['규모구분'] == '전체']\n",
    "region_year = region_year_all.pivot_table('평당분양가격', '지역명', '연도').reset_index()\n",
    "region_year.head()"
   ]
  },
  {
   "cell_type": "code",
   "execution_count": 42,
   "metadata": {},
   "outputs": [
    {
     "data": {
      "text/plain": [
       "RangeIndex(start=0, stop=17, step=1)"
      ]
     },
     "execution_count": 42,
     "metadata": {},
     "output_type": "execute_result"
    }
   ],
   "source": [
    "region_year.index"
   ]
  },
  {
   "cell_type": "code",
   "execution_count": 43,
   "metadata": {},
   "outputs": [
    {
     "data": {
      "text/plain": [
       "<bound method DataFrame.reset_index of 연도      2015       2016     2017       2018       2019\n",
       "지역명                                                   \n",
       "강원    7159.9   7011.125   7126.8   7680.750   8141.650\n",
       "경기   10377.4  11220.000  11850.0  13185.975  14468.850\n",
       "경남    7585.6   7847.950   8119.8   9019.450   9870.850\n",
       "경북    7170.9   7360.650   7794.9   8505.200   8856.650\n",
       "광주    8052.0   8898.725   9463.5   9855.725  11822.800\n",
       "대구    9232.3  10310.025  11455.8  12075.800  13852.025\n",
       "대전    8098.2   8501.625   9044.7  10180.225  11777.700\n",
       "부산   10307.0  10429.925  11577.9  12997.875  13116.400\n",
       "서울   19725.2  20663.500  21375.9  22889.350  26131.050\n",
       "세종    8750.5   8860.500   9135.3  10354.850  11078.925\n",
       "울산   10052.9  10208.550  11345.1  10241.400  10022.100\n",
       "인천   10484.1  10532.500  10736.7  11273.900  12634.875\n",
       "전남    6317.3   6488.625   7187.7   7789.100   7902.400\n",
       "전북    6703.4   6417.950   7057.8   7625.750   8196.650\n",
       "제주    7405.2   9129.175  10830.9  11890.725  12137.950\n",
       "충남    7114.8   7330.675   7456.2   8012.675   8606.950\n",
       "충북    6645.1   6770.225   6762.6   7874.075   7574.600>"
      ]
     },
     "execution_count": 43,
     "metadata": {},
     "output_type": "execute_result"
    }
   ],
   "source": [
    "region_year_all.pivot_table('평당분양가격', '지역명', '연도').reset_index"
   ]
  },
  {
   "cell_type": "code",
   "execution_count": 45,
   "metadata": {},
   "outputs": [
    {
     "data": {
      "text/html": [
       "<div>\n",
       "<style scoped>\n",
       "    .dataframe tbody tr th:only-of-type {\n",
       "        vertical-align: middle;\n",
       "    }\n",
       "\n",
       "    .dataframe tbody tr th {\n",
       "        vertical-align: top;\n",
       "    }\n",
       "\n",
       "    .dataframe thead th {\n",
       "        text-align: right;\n",
       "    }\n",
       "</style>\n",
       "<table border=\"1\" class=\"dataframe\">\n",
       "  <thead>\n",
       "    <tr style=\"text-align: right;\">\n",
       "      <th>연도</th>\n",
       "      <th>2015</th>\n",
       "      <th>2016</th>\n",
       "      <th>2017</th>\n",
       "      <th>2018</th>\n",
       "      <th>2019</th>\n",
       "    </tr>\n",
       "    <tr>\n",
       "      <th>지역명</th>\n",
       "      <th></th>\n",
       "      <th></th>\n",
       "      <th></th>\n",
       "      <th></th>\n",
       "      <th></th>\n",
       "    </tr>\n",
       "  </thead>\n",
       "  <tbody>\n",
       "    <tr>\n",
       "      <th>강원</th>\n",
       "      <td>7159.9</td>\n",
       "      <td>7011.125</td>\n",
       "      <td>7126.8</td>\n",
       "      <td>7680.750</td>\n",
       "      <td>8141.65</td>\n",
       "    </tr>\n",
       "    <tr>\n",
       "      <th>경기</th>\n",
       "      <td>10377.4</td>\n",
       "      <td>11220.000</td>\n",
       "      <td>11850.0</td>\n",
       "      <td>13185.975</td>\n",
       "      <td>14468.85</td>\n",
       "    </tr>\n",
       "    <tr>\n",
       "      <th>경남</th>\n",
       "      <td>7585.6</td>\n",
       "      <td>7847.950</td>\n",
       "      <td>8119.8</td>\n",
       "      <td>9019.450</td>\n",
       "      <td>9870.85</td>\n",
       "    </tr>\n",
       "    <tr>\n",
       "      <th>경북</th>\n",
       "      <td>7170.9</td>\n",
       "      <td>7360.650</td>\n",
       "      <td>7794.9</td>\n",
       "      <td>8505.200</td>\n",
       "      <td>8856.65</td>\n",
       "    </tr>\n",
       "    <tr>\n",
       "      <th>광주</th>\n",
       "      <td>8052.0</td>\n",
       "      <td>8898.725</td>\n",
       "      <td>9463.5</td>\n",
       "      <td>9855.725</td>\n",
       "      <td>11822.80</td>\n",
       "    </tr>\n",
       "  </tbody>\n",
       "</table>\n",
       "</div>"
      ],
      "text/plain": [
       "연도      2015       2016     2017       2018      2019\n",
       "지역명                                                  \n",
       "강원    7159.9   7011.125   7126.8   7680.750   8141.65\n",
       "경기   10377.4  11220.000  11850.0  13185.975  14468.85\n",
       "경남    7585.6   7847.950   8119.8   9019.450   9870.85\n",
       "경북    7170.9   7360.650   7794.9   8505.200   8856.65\n",
       "광주    8052.0   8898.725   9463.5   9855.725  11822.80"
      ]
     },
     "execution_count": 45,
     "metadata": {},
     "output_type": "execute_result"
    }
   ],
   "source": [
    "sample = region_year_all.pivot_table('평당분양가격', '지역명', '연도')\n",
    "sample.head()"
   ]
  },
  {
   "cell_type": "code",
   "execution_count": 46,
   "metadata": {},
   "outputs": [
    {
     "data": {
      "text/plain": [
       "Index(['강원', '경기', '경남', '경북', '광주', '대구', '대전', '부산', '서울', '세종', '울산', '인천',\n",
       "       '전남', '전북', '제주', '충남', '충북'],\n",
       "      dtype='object', name='지역명')"
      ]
     },
     "execution_count": 46,
     "metadata": {},
     "output_type": "execute_result"
    }
   ],
   "source": [
    "sample.index"
   ]
  },
  {
   "cell_type": "code",
   "execution_count": 47,
   "metadata": {},
   "outputs": [
    {
     "data": {
      "text/html": [
       "<div>\n",
       "<style scoped>\n",
       "    .dataframe tbody tr th:only-of-type {\n",
       "        vertical-align: middle;\n",
       "    }\n",
       "\n",
       "    .dataframe tbody tr th {\n",
       "        vertical-align: top;\n",
       "    }\n",
       "\n",
       "    .dataframe thead th {\n",
       "        text-align: right;\n",
       "    }\n",
       "</style>\n",
       "<table border=\"1\" class=\"dataframe\">\n",
       "  <thead>\n",
       "    <tr style=\"text-align: right;\">\n",
       "      <th>연도</th>\n",
       "      <th>지역명</th>\n",
       "      <th>2015</th>\n",
       "      <th>2016</th>\n",
       "      <th>2017</th>\n",
       "      <th>2018</th>\n",
       "      <th>2019</th>\n",
       "      <th>변동액</th>\n",
       "    </tr>\n",
       "  </thead>\n",
       "  <tbody>\n",
       "    <tr>\n",
       "      <th>0</th>\n",
       "      <td>강원</td>\n",
       "      <td>7159.9</td>\n",
       "      <td>7011.125</td>\n",
       "      <td>7126.8</td>\n",
       "      <td>7680.750</td>\n",
       "      <td>8141.650</td>\n",
       "      <td>981</td>\n",
       "    </tr>\n",
       "    <tr>\n",
       "      <th>1</th>\n",
       "      <td>경기</td>\n",
       "      <td>10377.4</td>\n",
       "      <td>11220.000</td>\n",
       "      <td>11850.0</td>\n",
       "      <td>13185.975</td>\n",
       "      <td>14468.850</td>\n",
       "      <td>4091</td>\n",
       "    </tr>\n",
       "    <tr>\n",
       "      <th>2</th>\n",
       "      <td>경남</td>\n",
       "      <td>7585.6</td>\n",
       "      <td>7847.950</td>\n",
       "      <td>8119.8</td>\n",
       "      <td>9019.450</td>\n",
       "      <td>9870.850</td>\n",
       "      <td>2285</td>\n",
       "    </tr>\n",
       "    <tr>\n",
       "      <th>3</th>\n",
       "      <td>경북</td>\n",
       "      <td>7170.9</td>\n",
       "      <td>7360.650</td>\n",
       "      <td>7794.9</td>\n",
       "      <td>8505.200</td>\n",
       "      <td>8856.650</td>\n",
       "      <td>1685</td>\n",
       "    </tr>\n",
       "    <tr>\n",
       "      <th>4</th>\n",
       "      <td>광주</td>\n",
       "      <td>8052.0</td>\n",
       "      <td>8898.725</td>\n",
       "      <td>9463.5</td>\n",
       "      <td>9855.725</td>\n",
       "      <td>11822.800</td>\n",
       "      <td>3770</td>\n",
       "    </tr>\n",
       "    <tr>\n",
       "      <th>5</th>\n",
       "      <td>대구</td>\n",
       "      <td>9232.3</td>\n",
       "      <td>10310.025</td>\n",
       "      <td>11455.8</td>\n",
       "      <td>12075.800</td>\n",
       "      <td>13852.025</td>\n",
       "      <td>4619</td>\n",
       "    </tr>\n",
       "    <tr>\n",
       "      <th>6</th>\n",
       "      <td>대전</td>\n",
       "      <td>8098.2</td>\n",
       "      <td>8501.625</td>\n",
       "      <td>9044.7</td>\n",
       "      <td>10180.225</td>\n",
       "      <td>11777.700</td>\n",
       "      <td>3679</td>\n",
       "    </tr>\n",
       "    <tr>\n",
       "      <th>7</th>\n",
       "      <td>부산</td>\n",
       "      <td>10307.0</td>\n",
       "      <td>10429.925</td>\n",
       "      <td>11577.9</td>\n",
       "      <td>12997.875</td>\n",
       "      <td>13116.400</td>\n",
       "      <td>2809</td>\n",
       "    </tr>\n",
       "    <tr>\n",
       "      <th>8</th>\n",
       "      <td>서울</td>\n",
       "      <td>19725.2</td>\n",
       "      <td>20663.500</td>\n",
       "      <td>21375.9</td>\n",
       "      <td>22889.350</td>\n",
       "      <td>26131.050</td>\n",
       "      <td>6405</td>\n",
       "    </tr>\n",
       "    <tr>\n",
       "      <th>9</th>\n",
       "      <td>세종</td>\n",
       "      <td>8750.5</td>\n",
       "      <td>8860.500</td>\n",
       "      <td>9135.3</td>\n",
       "      <td>10354.850</td>\n",
       "      <td>11078.925</td>\n",
       "      <td>2328</td>\n",
       "    </tr>\n",
       "    <tr>\n",
       "      <th>10</th>\n",
       "      <td>울산</td>\n",
       "      <td>10052.9</td>\n",
       "      <td>10208.550</td>\n",
       "      <td>11345.1</td>\n",
       "      <td>10241.400</td>\n",
       "      <td>10022.100</td>\n",
       "      <td>-30</td>\n",
       "    </tr>\n",
       "    <tr>\n",
       "      <th>11</th>\n",
       "      <td>인천</td>\n",
       "      <td>10484.1</td>\n",
       "      <td>10532.500</td>\n",
       "      <td>10736.7</td>\n",
       "      <td>11273.900</td>\n",
       "      <td>12634.875</td>\n",
       "      <td>2150</td>\n",
       "    </tr>\n",
       "    <tr>\n",
       "      <th>12</th>\n",
       "      <td>전남</td>\n",
       "      <td>6317.3</td>\n",
       "      <td>6488.625</td>\n",
       "      <td>7187.7</td>\n",
       "      <td>7789.100</td>\n",
       "      <td>7902.400</td>\n",
       "      <td>1585</td>\n",
       "    </tr>\n",
       "    <tr>\n",
       "      <th>13</th>\n",
       "      <td>전북</td>\n",
       "      <td>6703.4</td>\n",
       "      <td>6417.950</td>\n",
       "      <td>7057.8</td>\n",
       "      <td>7625.750</td>\n",
       "      <td>8196.650</td>\n",
       "      <td>1493</td>\n",
       "    </tr>\n",
       "    <tr>\n",
       "      <th>14</th>\n",
       "      <td>제주</td>\n",
       "      <td>7405.2</td>\n",
       "      <td>9129.175</td>\n",
       "      <td>10830.9</td>\n",
       "      <td>11890.725</td>\n",
       "      <td>12137.950</td>\n",
       "      <td>4732</td>\n",
       "    </tr>\n",
       "    <tr>\n",
       "      <th>15</th>\n",
       "      <td>충남</td>\n",
       "      <td>7114.8</td>\n",
       "      <td>7330.675</td>\n",
       "      <td>7456.2</td>\n",
       "      <td>8012.675</td>\n",
       "      <td>8606.950</td>\n",
       "      <td>1492</td>\n",
       "    </tr>\n",
       "    <tr>\n",
       "      <th>16</th>\n",
       "      <td>충북</td>\n",
       "      <td>6645.1</td>\n",
       "      <td>6770.225</td>\n",
       "      <td>6762.6</td>\n",
       "      <td>7874.075</td>\n",
       "      <td>7574.600</td>\n",
       "      <td>929</td>\n",
       "    </tr>\n",
       "  </tbody>\n",
       "</table>\n",
       "</div>"
      ],
      "text/plain": [
       "연도 지역명     2015       2016     2017       2018       2019   변동액\n",
       "0   강원   7159.9   7011.125   7126.8   7680.750   8141.650   981\n",
       "1   경기  10377.4  11220.000  11850.0  13185.975  14468.850  4091\n",
       "2   경남   7585.6   7847.950   8119.8   9019.450   9870.850  2285\n",
       "3   경북   7170.9   7360.650   7794.9   8505.200   8856.650  1685\n",
       "4   광주   8052.0   8898.725   9463.5   9855.725  11822.800  3770\n",
       "5   대구   9232.3  10310.025  11455.8  12075.800  13852.025  4619\n",
       "6   대전   8098.2   8501.625   9044.7  10180.225  11777.700  3679\n",
       "7   부산  10307.0  10429.925  11577.9  12997.875  13116.400  2809\n",
       "8   서울  19725.2  20663.500  21375.9  22889.350  26131.050  6405\n",
       "9   세종   8750.5   8860.500   9135.3  10354.850  11078.925  2328\n",
       "10  울산  10052.9  10208.550  11345.1  10241.400  10022.100   -30\n",
       "11  인천  10484.1  10532.500  10736.7  11273.900  12634.875  2150\n",
       "12  전남   6317.3   6488.625   7187.7   7789.100   7902.400  1585\n",
       "13  전북   6703.4   6417.950   7057.8   7625.750   8196.650  1493\n",
       "14  제주   7405.2   9129.175  10830.9  11890.725  12137.950  4732\n",
       "15  충남   7114.8   7330.675   7456.2   8012.675   8606.950  1492\n",
       "16  충북   6645.1   6770.225   6762.6   7874.075   7574.600   929"
      ]
     },
     "execution_count": 47,
     "metadata": {},
     "output_type": "execute_result"
    }
   ],
   "source": [
    "region_year['변동액'] = (region_year['2019'] - region_year['2015']).astype(int)\n",
    "max_delta_price = np.max(region_year['변동액']) *1000\n",
    "min_delta_price = np.min(region_year['변동액']) *1000\n",
    "mean_delta_price = np.mean(region_year['변동액']) *1000\n",
    "\n",
    "region_year"
   ]
  },
  {
   "cell_type": "code",
   "execution_count": 48,
   "metadata": {},
   "outputs": [
    {
     "name": "stdout",
     "output_type": "stream",
     "text": [
      "2015년부터 2019년까지 분양가는 계속 상승했으며,  상승액이 가장 큰 지역은 서울이며 상승액은 평당 6,405,000원이다.\n",
      "상승액이 가장 작은 지역은 울산이며 평당 -30,000원이다.\n",
      "하지만 나중에 살펴보겠지만 울산에는 결측치가 많다. 따라서 변동액이 가장 작다라고 판단하기 어렵다.\n",
      "전국 평균 변동액은 평당 2,647,235원이다.\n"
     ]
    }
   ],
   "source": [
    "print('2015년부터 2019년까지 분양가는 계속 상승했으며,  \\\n",
    "상승액이 가장 큰 지역은 서울이며 상승액은 평당 {:,.0f}원이다.'.format(max_delta_price))\n",
    "print('상승액이 가장 작은 지역은 울산이며 평당 {:,.0f}원이다.'.format(min_delta_price))\n",
    "print('하지만 나중에 살펴보겠지만 울산에는 결측치가 많다. 따라서 변동액이 가장 작다라고 판단하기 어렵다.')\n",
    "print('전국 평균 변동액은 평당 {:,.0f}원이다.'.format(mean_delta_price))\n"
   ]
  },
  {
   "cell_type": "code",
   "execution_count": null,
   "metadata": {},
   "outputs": [],
   "source": []
  },
  {
   "cell_type": "code",
   "execution_count": null,
   "metadata": {},
   "outputs": [],
   "source": []
  }
 ],
 "metadata": {
  "kernelspec": {
   "display_name": "Python 3",
   "language": "python",
   "name": "python3"
  },
  "language_info": {
   "codemirror_mode": {
    "name": "ipython",
    "version": 3
   },
   "file_extension": ".py",
   "mimetype": "text/x-python",
   "name": "python",
   "nbconvert_exporter": "python",
   "pygments_lexer": "ipython3",
   "version": "3.7.3"
  }
 },
 "nbformat": 4,
 "nbformat_minor": 2
}
